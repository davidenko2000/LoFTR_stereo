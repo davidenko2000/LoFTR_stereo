{
  "nbformat": 4,
  "nbformat_minor": 0,
  "metadata": {
    "accelerator": "GPU",
    "colab": {
      "provenance": [],
      "include_colab_link": true
    },
    "kernelspec": {
      "display_name": "Python 3",
      "name": "python3"
    },
    "language_info": {
      "name": "python"
    }
  },
  "cells": [
    {
      "cell_type": "markdown",
      "metadata": {
        "id": "view-in-github",
        "colab_type": "text"
      },
      "source": [
        "<a href=\"https://colab.research.google.com/github/davidenko2000/LoFTR_stereo/blob/master/LoFTR_stereo.ipynb\" target=\"_parent\"><img src=\"https://colab.research.google.com/assets/colab-badge.svg\" alt=\"Open In Colab\"/></a>"
      ]
    },
    {
      "cell_type": "markdown",
      "metadata": {
        "id": "1vcYjx3HFUcw"
      },
      "source": [
        "# LoFTR evaluation on KITTI dataset\n",
        "\n",
        "KITTI dataset consists of 200 stereo images (left and right).\n",
        "Below you can find results of LoFTR matcher on such dataset.\n"
      ]
    },
    {
      "cell_type": "code",
      "metadata": {
        "id": "YWjHASahGCjv"
      },
      "source": [
        "# Configure environment and grab LoFTR code.\n",
        "!rm -rf sample_data\n",
        "!pip install torch einops yacs kornia\n",
        "!git clone https://github.com/zju3dv/LoFTR --depth 1\n",
        "!mv LoFTR/* . && rm -rf LoFTR\n",
        "\n",
        "# Download pretrained weights\n",
        "!mkdir weights \n",
        "%cd weights/\n",
        "#!gdown --id 1w1Qhea3WLRMS81Vod_k5rxS_GNRgIi-O  # indoor-ds\n",
        "!gdown --id 1M-VD35-qdB5Iw-AtbDBCKC7hPolFW9UY  # outdoor-ds\n",
        "%cd .."
      ],
      "execution_count": null,
      "outputs": []
    },
    {
      "cell_type": "code",
      "metadata": {
        "id": "RD9G7vCzFUc1"
      },
      "source": [
        "import torch\n",
        "import cv2\n",
        "import numpy as np\n",
        "import matplotlib.cm as cm\n",
        "from matplotlib import pyplot as plt\n",
        "import matplotlib.colors as colors\n",
        "\n",
        "from src.utils.plotting import make_matching_figure\n",
        "from src.loftr import LoFTR, default_cfg"
      ],
      "execution_count": null,
      "outputs": []
    },
    {
      "cell_type": "code",
      "source": [
        "from google.colab import drive\n",
        "drive.mount('/content/drive')"
      ],
      "metadata": {
        "id": "G04uRaAbHz5E"
      },
      "execution_count": null,
      "outputs": []
    },
    {
      "cell_type": "code",
      "source": [
        "\"\"\"Method to plot image using real disparity map and computed disparity map\"\"\"\n",
        "def plot_acc_byimage(idx, model):\n",
        "  real_disp = skimage.util.img_as_ubyte(mpimg.imread(f\"/content/drive/MyDrive/data_scene_flow/disparity/{str.zfill(str(idx), 6)}_10.png\"))\n",
        "  real_disp = cv2.resize(real_disp, (1240, 375))\n",
        "  predicted_disp = compute_disparity_map(idx, model)\n",
        "  acc = disparity_accuracy_byimage(real_disp=real_disp, predicted_disp=predicted_disp)\n",
        "\n",
        "  plt.figure(figsize=(20, 10))\n",
        "  color_map = colors.ListedColormap(['black', 'red', 'yellow'])\n",
        "  plt.imshow(acc, cmap=color_map)\n",
        " \n",
        "\n",
        "\"\"\"\n",
        "Function which uses real disparity, predicted disparity and pixel error to calcuate accuracy of prediction.\n",
        "Returns:\n",
        "        -1 -> if the real disparity is unknown\n",
        "        0  -> if the prediction in incorrect\n",
        "        1  -> if the prediction is correct (the prediction must be in the interval which uses allowed pixel error\n",
        "\"\"\"\n",
        "def disparity_accuracy_byimage(real_disp, predicted_disp, pxl_error=3):\n",
        "\tacc = np.zeros(predicted_disp.shape)\n",
        "\tacc[predicted_disp == 0] = -1\n",
        "\tacc[(predicted_disp != 0) & (np.abs(predicted_disp - real_disp) < pxl_error)] = 1\n",
        "\n",
        "\treturn acc\n",
        "\n",
        "\"\"\"\n",
        "Function which computes disparity map using model and index (idx) of an image.\n",
        "\"\"\"\n",
        "def compute_disparity_map(idx, model):\n",
        "  img0_raw = cv2.imread(f\"/content/drive/MyDrive/data_scene_flow/RGB/left/{str.zfill(str(idx), 6)}_10.png\", cv2.IMREAD_GRAYSCALE)\n",
        "  img1_raw = cv2.imread(f\"/content/drive/MyDrive/data_scene_flow/RGB/right/{str.zfill(str(idx), 6)}_10.png\", cv2.IMREAD_GRAYSCALE)\n",
        "  \n",
        "\n",
        "  img0_raw = cv2.resize(img0_raw, (1240, 375))\n",
        "  img1_raw = cv2.resize(img1_raw, (1240, 375))\n",
        "\n",
        "  img0 = torch.from_numpy(img0_raw)[None][None].cuda() / 255.\n",
        "  img1 = torch.from_numpy(img1_raw)[None][None].cuda() / 255.\n",
        "  batch = {'image0': img0, 'image1': img1}\n",
        "  \n",
        "  predicted_disp = np.zeros(img0_raw.shape)\n",
        "\n",
        "  # Inference with LoFTR and get prediction\n",
        "  with torch.no_grad():\n",
        "      matcher(batch)\n",
        "      mkpts0 = batch['mkpts0_f'].cpu().numpy()\n",
        "      mkpts1 = batch['mkpts1_f'].cpu().numpy()\n",
        "      mconf = batch['mconf'].cpu().numpy()\n",
        "\n",
        "  for i in range(mkpts0.shape[0]):\n",
        "    disp = mkpts0[i][0] - mkpts1[i][0] #check only on epipolar line\n",
        "    predicted_disp[int(mkpts0[i][1])][int(mkpts0[i][0])] = disp\n",
        "\n",
        "  return predicted_disp\n"
      ],
      "metadata": {
        "id": "PdFhbTOGBfvU"
      },
      "execution_count": null,
      "outputs": []
    },
    {
      "cell_type": "code",
      "metadata": {
        "id": "mdJ-G1CiFUc3",
        "colab": {
          "base_uri": "https://localhost:8080/",
          "height": 406
        },
        "outputId": "803e9ad2-94fa-4f8f-b09e-d020a339e79e"
      },
      "source": [
        "from re import M\n",
        "import skimage\n",
        "from matplotlib import image as mpimg\n",
        "\n",
        "matcher = LoFTR(config=default_cfg)\n",
        "matcher.load_state_dict(torch.load(\"/content/drive/MyDrive/data_scene_flow/outdoor_ds.ckpt\")['state_dict'])\n",
        "matcher = matcher.eval().cuda()\n",
        "\n",
        "max_N = 200\n",
        "counter_correct = 0\n",
        "counter_total = 0\n",
        "pxl_error = 3\n",
        "\n",
        "for idx in range(max_N):\n",
        "  real_disp = skimage.util.img_as_ubyte(mpimg.imread(f\"/content/drive/MyDrive/data_scene_flow/disparity/{str.zfill(str(idx), 6)}_10.png\"))\n",
        "  real_disp = cv2.resize(real_disp, (1240, 375))\n",
        "\n",
        "  predicted_disp = compute_disparity_map(idx, matcher)\n",
        "  counter_correct += np.count_nonzero((predicted_disp != 0) & (np.abs(predicted_disp - real_disp) < pxl_error))\n",
        "  counter_total += np.count_nonzero(predicted_disp)\n",
        "\n",
        "\n",
        "print(f\"Accuracy on KITTI: {counter_correct/counter_total}\")\n",
        "plot_acc_byimage(100, matcher)"
      ],
      "execution_count": null,
      "outputs": [
        {
          "output_type": "stream",
          "name": "stdout",
          "text": [
            "Accuracy on KITTI: 0.18233064980557928\n"
          ]
        },
        {
          "output_type": "display_data",
          "data": {
            "text/plain": [
              "<Figure size 1440x720 with 1 Axes>"
            ],
            "image/png": "[encoded data removed]"
          },
          "metadata": {
            "needs_background": "light"
          }
        }
      ]
    }
  ]
}